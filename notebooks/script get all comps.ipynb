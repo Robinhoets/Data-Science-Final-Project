{
 "cells": [
  {
   "cell_type": "markdown",
   "id": "d76f0bc9",
   "metadata": {},
   "source": [
    "# Get the Competitions"
   ]
  },
  {
   "cell_type": "code",
   "execution_count": 1,
   "id": "61c6d380",
   "metadata": {},
   "outputs": [],
   "source": [
    "from statsbombpy import sb\n",
    "import pandas as pd\n",
    "pd.set_option('display.max_rows', None)\n",
    "pd.set_option('display.max_columns', None)"
   ]
  },
  {
   "cell_type": "code",
   "execution_count": 9,
   "id": "b30e3b85",
   "metadata": {},
   "outputs": [
    {
     "name": "stderr",
     "output_type": "stream",
     "text": [
      "/Users/robertsmith/anaconda3/lib/python3.10/site-packages/statsbombpy/api_client.py:21: NoAuthWarning: credentials were not supplied. open data access only\n",
      "  warnings.warn(\n"
     ]
    },
    {
     "data": {
      "text/plain": [
       "pandas.core.frame.DataFrame"
      ]
     },
     "execution_count": 9,
     "metadata": {},
     "output_type": "execute_result"
    }
   ],
   "source": [
    "comps = sb.competitions()\n",
    "type(comps)"
   ]
  },
  {
   "cell_type": "code",
   "execution_count": 12,
   "id": "b07a9e5d",
   "metadata": {},
   "outputs": [],
   "source": [
    "competition_ids = []\n",
    "season_ids = []\n",
    "for i in range(len(comps)):\n",
    "    competition_ids.append(comps.loc[i,\"competition_id\"])\n",
    "    season_ids.append(comps.loc[i,\"season_id\"])"
   ]
  },
  {
   "cell_type": "code",
   "execution_count": null,
   "id": "fd131c7c",
   "metadata": {},
   "outputs": [],
   "source": []
  },
  {
   "cell_type": "code",
   "execution_count": null,
   "id": "256cb502",
   "metadata": {},
   "outputs": [],
   "source": []
  },
  {
   "cell_type": "code",
   "execution_count": null,
   "id": "4b3640cb",
   "metadata": {},
   "outputs": [],
   "source": []
  }
 ],
 "metadata": {
  "kernelspec": {
   "display_name": "Python 3 (ipykernel)",
   "language": "python",
   "name": "python3"
  },
  "language_info": {
   "codemirror_mode": {
    "name": "ipython",
    "version": 3
   },
   "file_extension": ".py",
   "mimetype": "text/x-python",
   "name": "python",
   "nbconvert_exporter": "python",
   "pygments_lexer": "ipython3",
   "version": "3.10.9"
  }
 },
 "nbformat": 4,
 "nbformat_minor": 5
}
